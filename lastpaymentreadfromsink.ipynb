{
 "cells": [
  {
   "cell_type": "markdown",
   "metadata": {},
   "source": [
    "***GENERATED CODE FOR lastpaymentreadfromsink PIPELINE.***"
   ]
  },
  {
   "cell_type": "markdown",
   "metadata": {},
   "source": [
    "***DON'T EDIT THIS CODE.***"
   ]
  },
  {
   "cell_type": "markdown",
   "metadata": {},
   "source": [
    "***CONNECTOR FUNCTIONS TO READ DATA.***"
   ]
  },
  {
   "cell_type": "code",
   "execution_count": null,
   "metadata": {},
   "outputs": [],
   "source": [
    "import logging\n",
    "import warnings\n",
    "warnings.filterwarnings('ignore')\n",
    "logging.basicConfig(format='%(levelname)s:%(message)s', level=logging.INFO)\n",
    "\n",
    "\n",
    "class DBFSConnector:\n",
    "\n",
    "    def fetch(spark, config):\n",
    "        df = spark.read.\\\n",
    "            options(header='true' if eval(config)[\"is_header\"] == \"Use Header Line\" else 'false',\n",
    "                    inferschema='true',\n",
    "                    delimiter=eval(config)[\"delimiter\"])\\\n",
    "            .csv(eval(config)['url'])\n",
    "        display(df.limit(2).toPandas())\n",
    "        return df\n",
    "\n",
    "    def put(df, path):\n",
    "        df.to_csv(\"/dbfs\" + eval(config)['url'], header=True, index=False)\n",
    "        return True\n"
   ]
  },
  {
   "cell_type": "markdown",
   "metadata": {},
   "source": [
    "***TRANSFORMATIONS FUNCTIONS THAT WILL BE APPLIED ON DATA***"
   ]
  },
  {
   "cell_type": "code",
   "execution_count": null,
   "metadata": {},
   "outputs": [],
   "source": [
    "import json\n",
    "from pyspark.sql.functions import round\n",
    "from pyspark.ml.feature import Binarizer\n",
    "from pyspark.sql.functions import col, when\n",
    "from pyspark.sql.functions import mean, stddev, min, max, col\n",
    "\n",
    "\n",
    "class CleanseData:\n",
    "    # def __init__(self,df):\n",
    "    #     #print()\n",
    "\n",
    "    def replaceByMean(self, feature, df, mean_=-1):\n",
    "\n",
    "        meanValue = df.select(mean(col(feature.name)).alias(\n",
    "            'mean')).collect()[0][\"mean\"]\n",
    "        df.fillna(meanValue, subset=[feature.name])\n",
    "        df.withColumn(feature.name, when(col(feature.name) == \" \",\n",
    "                                         meanValue).otherwise(col(feature.name).cast(\"Integer\")))\n",
    "        return df\n",
    "\n",
    "    def replaceByMax(self, feature, df, max_=-1):\n",
    "        maxValue = df.select(max(col(feature.name)).alias('max')).collect()[\n",
    "            0][\"max\"]\n",
    "        df.fillna(maxValue, subset=[feature.name])\n",
    "        df = df.withColumn(feature.name,\n",
    "                           when(col(feature.name) == \" \", maxValue).otherwise(col(feature.name)))\n",
    "        return df\n",
    "\n",
    "    def replaceByMin(self, feature, df, min_=-1):\n",
    "        minValue = df.select(min(col(feature.name)).alias('min')).collect()[\n",
    "            0][\"min\"]\n",
    "        df.fillna(minValue, subset=[feature.name])\n",
    "        df = df.withColumn(feature.name,\n",
    "                           when(col(feature.name) == \" \", minValue).otherwise(col(feature.name)))\n",
    "        return df\n",
    "\n",
    "    def replaceByStandardDeviation(self, feature, df, stddev_=-1):\n",
    "        stddevValue = df.select(stddev(col(feature.name)).alias(\n",
    "            'stddev')).collect()[0][\"stddev\"]\n",
    "        df.fillna(stddevValue, subset=[feature.name])\n",
    "        df = df.withColumn(feature.name,\n",
    "                           when(col(feature.name) == \" \", stddevValue).otherwise(col(feature.name)))\n",
    "        return df\n",
    "\n",
    "    def replaceDateRandomly(self, feature, df):\n",
    "        fillValue = df.where(col(feature.name).isNotNull()\n",
    "                             ).head(1)[0][feature.name]\n",
    "        df.fillna(str(fillValue), subset=[feature.name])\n",
    "        df = df.withColumn(feature.name,\n",
    "                           when(col(feature.name) == \" \", fillValue).otherwise(col(feature.name)))\n",
    "        # print(\"CleanseData:replaceDateRandomly Schema : \", df.#printSchema())\n",
    "        return df\n",
    "\n",
    "    def replaceNullValues(self, fList, df):\n",
    "        featuresList = df.schema.fields\n",
    "        for featureObj in fList:\n",
    "            for feat in featuresList:\n",
    "                if featureObj[\"feature\"] in feat.name:\n",
    "                    featureName = feat\n",
    "                    if \"mean\" in featureObj[\"replaceby\"]:\n",
    "                        df = self.replaceByMean(featureName, df)\n",
    "                    elif \"max\" in featureObj[\"replaceby\"]:\n",
    "                        df = self.replaceByMax(featureName, df)\n",
    "                    elif \"min\" in featureObj[\"replaceby\"]:\n",
    "                        df = self.replaceByMin(featureName, df)\n",
    "                    elif \"stddev\" in featureObj[\"replaceby\"]:\n",
    "                        df = self.replaceByStandardDeviation(featureName, df)\n",
    "                    elif \"random\" in featureObj[\"replaceby\"]:\n",
    "                        df = self.replaceDateRandomly(featureName, df)\n",
    "        return df\n",
    "\n",
    "\n",
    "def BinarizerTransform(df, params, transformationData={}):\n",
    "    dfReturn = df\n",
    "    transform_params = params\n",
    "    feature = transform_params['feature']\n",
    "    outcol = feature + \"_binarizer\"\n",
    "    dfReturn = dfReturn.withColumn(\"feature_cast\", dfReturn[feature].cast(\"double\")).drop(feature)\\\n",
    "        .withColumnRenamed(\"feature_cast\", feature)\n",
    "\n",
    "    dfReturn = dfReturn.fillna({feature: 0.0})\n",
    "    binarizer = Binarizer(threshold=float(\n",
    "        transformationData['threshold']), inputCol=feature, outputCol=outcol)\n",
    "    binarizedDataFrame = binarizer.transform(dfReturn)\n",
    "\n",
    "    # binarizedDataFrame=binarizedDataFrame.drop(feature).withColumnRenamed(outcol,feature)\n",
    "\n",
    "    dfReturn = binarizedDataFrame\n",
    "    dfReturn = dfReturn.withColumn(feature, round(dfReturn[feature], 2))\n",
    "\n",
    "    return dfReturn\n",
    "\n",
    "\n",
    "class TransformationMain:\n",
    "    # TODO: change df argument in run with following\n",
    "    def run(transformationDF, config):\n",
    "        configObj = json.loads(config)\n",
    "        featureData = configObj[\"FE\"]\n",
    "        transformationDF = CleanseData().replaceNullValues(featureData, transformationDF)\n",
    "        transformationDF = BinarizerTransform(transformationDF, {'transformationsData': [{'feature_label': 'DiagnosisCodeID1', 'threshold': 40271.87674985359, 'transformation_label': 'Binarizer'}], 'feature': 'DiagnosisCodeID1', 'type': 'real', 'selected': 'True', 'replaceby': 'mean', 'stats': {\n",
    "                                              'count': '52933', 'mean': '40271.88', 'stddev': '25397.41', 'min': '13472.0', 'max': '94919.0', 'missing': '0'}, 'transformation': [{'transformation': 'Binarizer', 'selectedAsDefault': 1}], 'updatedLabel': 'DiagnosisCodeID1'}, {'feature_label': 'DiagnosisCodeID1', 'threshold': 40271.87674985359, 'transformation_label': 'Binarizer'})\n",
    "        transformationDF = transformationDF.drop('DiagnosisCodeID1')\n",
    "        display(transformationDF.limit(2).toPandas())\n",
    "        return transformationDF\n"
   ]
  },
  {
   "cell_type": "markdown",
   "metadata": {},
   "source": [
    "***AUTOML FUNCTIONS***"
   ]
  },
  {
   "cell_type": "code",
   "execution_count": null,
   "metadata": {},
   "outputs": [],
   "source": [
    "from sklearn.model_selection import train_test_split\n",
    "from tpot import TPOTRegressor\n",
    "import pyspark\n",
    "\n",
    "\n",
    "def functionRegression(sparkDF, listOfFeatures, label):\n",
    "    sparkDF.persist(pyspark.StorageLevel.MEMORY_AND_DISK)\n",
    "    df = sparkDF.toPandas()\n",
    "    X = (df.drop(label, axis=1))[listOfFeatures].values\n",
    "    y = df[label].values\n",
    "    X_train, X_test, y_train, y_test = train_test_split(\n",
    "        X, y, random_state=1, test_size=0.1)\n",
    "    tpotModel = TPOTRegressor(verbosity=3, generations=10, max_time_mins=5,\n",
    "                              n_jobs=-1, random_state=25, population_size=15)\n",
    "    tpotModel.fit(X_train, y_train)\n",
    "    display(\" Error rate of Model : %s\" % tpotModel.score(X_test, y_test))\n",
    "    data = {'model': tpotModel,\n",
    "            'X_test': X_test,\n",
    "            'y_test': y_test,\n",
    "            'label': label,\n",
    "            'columnNames': listOfFeatures}\n",
    "    return data\n"
   ]
  },
  {
   "cell_type": "markdown",
   "metadata": {},
   "source": [
    "***READING DATAFRAME***"
   ]
  },
  {
   "cell_type": "code",
   "execution_count": null,
   "metadata": {},
   "outputs": [],
   "source": [
    "from pyspark.sql import SparkSession\n",
    "spark = SparkSession.builder.getOrCreate()\n",
    "\n",
    "#%run lastpaymentreadfromsinkHooks.ipynb\n",
    "try:\n",
    "\t#sourcePreExecutionHook()\n",
    "\n",
    "\tlastpaymentreadfromsinkdbfs = DBFSConnector.fetch(spark, \"{'url': '/Whitespace/lastpayment.csv', 'file_type': 'Delimeted', 'delimiter': ',', 'is_header': 'Use Header Line'}\")\n",
    "\t#sourcePostExecutionHook(lastpaymentreadfromsinkdbfs)\n",
    "\n",
    "except Exception as ex: \n",
    "\tlogging.error(ex)\n"
   ]
  },
  {
   "cell_type": "markdown",
   "metadata": {},
   "source": [
    "***TRANSFORMING DATAFRAME***"
   ]
  },
  {
   "cell_type": "code",
   "execution_count": null,
   "metadata": {},
   "outputs": [],
   "source": [
    "#%run lastpaymentreadfromsinkHooks.ipynb\n",
    "try:\n",
    "\t#transformationPreExecutionHook()\n",
    "\n",
    "\tautofe = TransformationMain.run(lastpaymentreadfromsinkdbfs,json.dumps( {\"FE\": [{\"transformationsData\": [{\"transformation_label\": \"novalue\"}], \"feature\": \"_c0\", \"transformation\": [{\"transformation\": \"novalue\", \"selectedAsDefault\": 1}], \"type\": \"numeric\", \"replaceby\": \"mean\", \"selected\": \"True\", \"stats\": {\"count\": \"52933\", \"mean\": \"263951.84\", \"stddev\": \"152938.41\", \"min\": \"6\", \"max\": \"530350\", \"missing\": \"0\"}, \"updatedLabel\": \"_c0\"}, {\"transformationsData\": [{\"transformation_label\": \"novalue\"}], \"feature\": \"first_decision\", \"type\": \"real\", \"selected\": \"True\", \"replaceby\": \"mean\", \"stats\": {\"count\": \"52933\", \"mean\": \"15.42\", \"stddev\": \"9.36\", \"min\": \"1.0\", \"max\": \"191.0\", \"missing\": \"0\"}, \"transformation\": [{\"transformation\": \"novalue\", \"selectedAsDefault\": 1}], \"updatedLabel\": \"first_decision\"}, {\"transformationsData\": [{\"transformation_label\": \"novalue\"}], \"feature\": \"last_decision\", \"type\": \"real\", \"selected\": \"True\", \"replaceby\": \"mean\", \"stats\": {\"count\": \"52933\", \"mean\": \"28.79\", \"stddev\": \"27.22\", \"min\": \"1.0\", \"max\": \"203.0\", \"missing\": \"0\"}, \"transformation\": [{\"transformation\": \"novalue\", \"selectedAsDefault\": 1}], \"updatedLabel\": \"last_decision\"}, {\"transformationsData\": [{\"transformation_label\": \"novalue\"}], \"feature\": \"CPTCodeID\", \"transformation\": [{\"transformation\": \"novalue\", \"selectedAsDefault\": 1}], \"type\": \"numeric\", \"replaceby\": \"mean\", \"selected\": \"True\", \"stats\": {\"count\": \"52933\", \"mean\": \"1820.14\", \"stddev\": \"1217.01\", \"min\": \"1\", \"max\": \"4895\", \"missing\": \"0\"}, \"updatedLabel\": \"CPTCodeID\"}, {\"transformationsData\": [{\"transformation_label\": \"novalue\"}], \"feature\": \"FacilityID\", \"transformation\": [{\"transformation\": \"novalue\", \"selectedAsDefault\": 1}], \"type\": \"numeric\", \"replaceby\": \"mean\", \"selected\": \"True\", \"stats\": {\"count\": \"52933\", \"mean\": \"102.35\", \"stddev\": \"48.42\", \"min\": \"0\", \"max\": \"179\", \"missing\": \"0\"}, \"updatedLabel\": \"FacilityID\"}, {\"transformationsData\": [{\"transformation_label\": \"novalue\"}], \"feature\": \"ProviderID\", \"transformation\": [{\"transformation\": \"novalue\", \"selectedAsDefault\": 1}], \"type\": \"numeric\", \"replaceby\": \"mean\", \"selected\": \"True\", \"stats\": {\"count\": \"52933\", \"mean\": \"134.35\", \"stddev\": \"74.62\", \"min\": \"0\", \"max\": \"263\", \"missing\": \"0\"}, \"updatedLabel\": \"ProviderID\"}, {\"transformationsData\": [{\"transformation_label\": \"novalue\"}], \"feature\": \"PayerId\", \"transformation\": [{\"transformation\": \"novalue\", \"selectedAsDefault\": 1}], \"type\": \"numeric\", \"replaceby\": \"mean\", \"selected\": \"True\", \"stats\": {\"count\": \"52933\", \"mean\": \"142.2\", \"stddev\": \"53.81\", \"min\": \"0\", \"max\": \"251\", \"missing\": \"0\"}, \"updatedLabel\": \"PayerId\"}, {\"transformationsData\": [{\"transformation_label\": \"novalue\"}], \"feature\": \"DepartmentID\", \"transformation\": [{\"transformation\": \"novalue\", \"selectedAsDefault\": 1}], \"type\": \"numeric\", \"replaceby\": \"mean\", \"selected\": \"True\", \"stats\": {\"count\": \"52933\", \"mean\": \"19.72\", \"stddev\": \"11.57\", \"min\": \"0\", \"max\": \"50\", \"missing\": \"0\"}, \"updatedLabel\": \"DepartmentID\"}, {\"transformationsData\": [{\"feature_label\": \"DiagnosisCodeID1\", \"threshold\": 40271.87674985359, \"transformation_label\": \"Binarizer\"}], \"feature\": \"DiagnosisCodeID1\", \"type\": \"real\", \"selected\": \"True\", \"replaceby\": \"mean\", \"stats\": {\"count\": \"52933\", \"mean\": \"40271.88\", \"stddev\": \"25397.41\", \"min\": \"13472.0\", \"max\": \"94919.0\", \"missing\": \"0\"}, \"transformation\": [{\"transformation\": \"Binarizer\", \"selectedAsDefault\": 1}], \"updatedLabel\": \"DiagnosisCodeID1\"}, {\"transformationsData\": [{\"transformation_label\": \"novalue\"}], \"feature\": \"LoadYear\", \"transformation\": [{\"transformation\": \"novalue\", \"selectedAsDefault\": 1}], \"type\": \"numeric\", \"replaceby\": \"mean\", \"selected\": \"True\", \"stats\": {\"count\": \"52933\", \"mean\": \"2020.0\", \"stddev\": \"0.0\", \"min\": \"2020\", \"max\": \"2020\", \"missing\": \"0\"}, \"updatedLabel\": \"LoadYear\"}, {\"transformationsData\": [{\"transformation_label\": \"novalue\"}], \"feature\": \"LoadMonth\", \"transformation\": [{\"transformation\": \"novalue\", \"selectedAsDefault\": 1}], \"type\": \"numeric\", \"replaceby\": \"mean\", \"selected\": \"True\", \"stats\": {\"count\": \"52933\", \"mean\": \"7.0\", \"stddev\": \"0.0\", \"min\": \"7\", \"max\": \"7\", \"missing\": \"0\"}, \"updatedLabel\": \"LoadMonth\"}, {\"transformationsData\": [{\"transformation_label\": \"novalue\"}], \"feature\": \"LoadWeek\", \"transformation\": [{\"transformation\": \"novalue\", \"selectedAsDefault\": 1}], \"type\": \"numeric\", \"replaceby\": \"mean\", \"selected\": \"True\", \"stats\": {\"count\": \"52933\", \"mean\": \"28.06\", \"stddev\": \"0.35\", \"min\": \"28\", \"max\": \"31\", \"missing\": \"0\"}, \"updatedLabel\": \"LoadWeek\"}, {\"transformationsData\": [{\"transformation_label\": \"novalue\"}], \"feature\": \"LoadDay\", \"transformation\": [{\"transformation\": \"novalue\", \"selectedAsDefault\": 1}], \"type\": \"numeric\", \"replaceby\": \"mean\", \"selected\": \"True\", \"stats\": {\"count\": \"52933\", \"mean\": \"9.39\", \"stddev\": \"2.39\", \"min\": \"9\", \"max\": \"29\", \"missing\": \"0\"}, \"updatedLabel\": \"LoadDay\"}, {\"transformationsData\": [{\"transformation_label\": \"novalue\"}], \"feature\": \"LoadDayofweek\", \"transformation\": [{\"transformation\": \"novalue\", \"selectedAsDefault\": 1}], \"type\": \"numeric\", \"replaceby\": \"mean\", \"selected\": \"True\", \"stats\": {\"count\": \"52933\", \"mean\": \"3.0\", \"stddev\": \"0.39\", \"min\": \"0\", \"max\": \"6\", \"missing\": \"0\"}, \"updatedLabel\": \"LoadDayofweek\"}, {\"transformationsData\": [{\"transformation_label\": \"novalue\"}], \"feature\": \"LoadDayofyear\", \"transformation\": [{\"transformation\": \"novalue\", \"selectedAsDefault\": 1}], \"type\": \"numeric\", \"replaceby\": \"mean\", \"selected\": \"True\", \"stats\": {\"count\": \"52933\", \"mean\": \"191.39\", \"stddev\": \"2.39\", \"min\": \"191\", \"max\": \"211\", \"missing\": \"0\"}, \"updatedLabel\": \"LoadDayofyear\"}, {\"transformationsData\": [{\"transformation_label\": \"novalue\"}], \"feature\": \"DateOfServiceYear\", \"transformation\": [{\"transformation\": \"novalue\", \"selectedAsDefault\": 1}], \"type\": \"numeric\", \"replaceby\": \"mean\", \"selected\": \"True\", \"stats\": {\"count\": \"52933\", \"mean\": \"2019.97\", \"stddev\": \"0.18\", \"min\": \"2017\", \"max\": \"2020\", \"missing\": \"0\"}, \"updatedLabel\": \"DateOfServiceYear\"}, {\"transformationsData\": [{\"transformation_label\": \"novalue\"}], \"feature\": \"DateOfServiceMonth\", \"transformation\": [{\"transformation\": \"novalue\", \"selectedAsDefault\": 1}], \"type\": \"numeric\", \"replaceby\": \"mean\", \"selected\": \"True\", \"stats\": {\"count\": \"52933\", \"mean\": \"3.04\", \"stddev\": \"2.1\", \"min\": \"1\", \"max\": \"12\", \"missing\": \"0\"}, \"updatedLabel\": \"DateOfServiceMonth\"}, {\"transformationsData\": [{\"transformation_label\": \"novalue\"}], \"feature\": \"DateOfServiceWeek\", \"transformation\": [{\"transformation\": \"novalue\", \"selectedAsDefault\": 1}], \"type\": \"numeric\", \"replaceby\": \"mean\", \"selected\": \"True\", \"stats\": {\"count\": \"52933\", \"mean\": \"11.4\", \"stddev\": \"8.3\", \"min\": \"1\", \"max\": \"52\", \"missing\": \"0\"}, \"updatedLabel\": \"DateOfServiceWeek\"}, {\"transformationsData\": [{\"transformation_label\": \"novalue\"}], \"feature\": \"DateOfServiceDay\", \"transformation\": [{\"transformation\": \"novalue\", \"selectedAsDefault\": 1}], \"type\": \"numeric\", \"replaceby\": \"mean\", \"selected\": \"True\", \"stats\": {\"count\": \"52933\", \"mean\": \"15.67\", \"stddev\": \"8.6\", \"min\": \"1\", \"max\": \"31\", \"missing\": \"0\"}, \"updatedLabel\": \"DateOfServiceDay\"}, {\"transformationsData\": [{\"transformation_label\": \"novalue\"}], \"feature\": \"DateOfServiceDayofweek\", \"transformation\": [{\"transformation\": \"novalue\", \"selectedAsDefault\": 1}], \"type\": \"numeric\", \"replaceby\": \"mean\", \"selected\": \"True\", \"stats\": {\"count\": \"52933\", \"mean\": \"1.95\", \"stddev\": \"1.43\", \"min\": \"0\", \"max\": \"6\", \"missing\": \"0\"}, \"updatedLabel\": \"DateOfServiceDayofweek\"}, {\"transformationsData\": [{\"transformation_label\": \"novalue\"}], \"feature\": \"DateOfServiceDayofyear\", \"transformation\": [{\"transformation\": \"novalue\", \"selectedAsDefault\": 1}], \"type\": \"numeric\", \"replaceby\": \"mean\", \"selected\": \"True\", \"stats\": {\"count\": \"52933\", \"mean\": \"77.66\", \"stddev\": \"65.0\", \"min\": \"1\", \"max\": \"365\", \"missing\": \"0\"}, \"updatedLabel\": \"DateOfServiceDayofyear\"}, {\"transformationsData\": [{\"transformation_label\": \"novalue\"}], \"feature\": \"DateOfEntryYear\", \"transformation\": [{\"transformation\": \"novalue\", \"selectedAsDefault\": 1}], \"type\": \"numeric\", \"replaceby\": \"mean\", \"selected\": \"True\", \"stats\": {\"count\": \"52933\", \"mean\": \"2020.0\", \"stddev\": \"0.0\", \"min\": \"2020\", \"max\": \"2020\", \"missing\": \"0\"}, \"updatedLabel\": \"DateOfEntryYear\"}, {\"transformationsData\": [{\"transformation_label\": \"novalue\"}], \"feature\": \"DateOfEntryMonth\", \"transformation\": [{\"transformation\": \"novalue\", \"selectedAsDefault\": 1}], \"type\": \"numeric\", \"replaceby\": \"mean\", \"selected\": \"True\", \"stats\": {\"count\": \"52933\", \"mean\": \"2.81\", \"stddev\": \"1.44\", \"min\": \"1\", \"max\": \"5\", \"missing\": \"0\"}, \"updatedLabel\": \"DateOfEntryMonth\"}, {\"transformationsData\": [{\"transformation_label\": \"novalue\"}], \"feature\": \"DateOfEntryWeek\", \"transformation\": [{\"transformation\": \"novalue\", \"selectedAsDefault\": 1}], \"type\": \"numeric\", \"replaceby\": \"mean\", \"selected\": \"True\", \"stats\": {\"count\": \"52933\", \"mean\": \"10.99\", \"stddev\": \"6.29\", \"min\": \"1\", \"max\": \"22\", \"missing\": \"0\"}, \"updatedLabel\": \"DateOfEntryWeek\"}, {\"transformationsData\": [{\"transformation_label\": \"novalue\"}], \"feature\": \"DateOfEntryDay\", \"transformation\": [{\"transformation\": \"novalue\", \"selectedAsDefault\": 1}], \"type\": \"numeric\", \"replaceby\": \"mean\", \"selected\": \"True\", \"stats\": {\"count\": \"52933\", \"mean\": \"16.06\", \"stddev\": \"8.57\", \"min\": \"1\", \"max\": \"31\", \"missing\": \"0\"}, \"updatedLabel\": \"DateOfEntryDay\"}, {\"transformationsData\": [{\"transformation_label\": \"novalue\"}], \"feature\": \"DateOfEntryDayofweek\", \"transformation\": [{\"transformation\": \"novalue\", \"selectedAsDefault\": 1}], \"type\": \"numeric\", \"replaceby\": \"mean\", \"selected\": \"True\", \"stats\": {\"count\": \"52933\", \"mean\": \"2.07\", \"stddev\": \"1.52\", \"min\": \"0\", \"max\": \"6\", \"missing\": \"0\"}, \"updatedLabel\": \"DateOfEntryDayofweek\"}, {\"transformationsData\": [{\"transformation_label\": \"novalue\"}], \"feature\": \"DateOfEntryDayofyear\", \"transformation\": [{\"transformation\": \"novalue\", \"selectedAsDefault\": 1}], \"type\": \"numeric\", \"replaceby\": \"mean\", \"selected\": \"True\", \"stats\": {\"count\": \"52933\", \"mean\": \"71.03\", \"stddev\": \"44.05\", \"min\": \"1\", \"max\": \"152\", \"missing\": \"0\"}, \"updatedLabel\": \"DateOfEntryDayofyear\"}, {\"feature\": \"DiagnosisCodeID1_binarizer_transform\", \"transformation\": [{\"transformation\": \"novalue\", \"selectedAsDefault\": 0}], \"transformationsData\": [{\"transformation_label\": \"novalue\"}], \"type\": \"real\", \"selected\": \"True\", \"stats\": {\"count\": \"52933\", \"mean\": \"0.28\", \"stddev\": \"0.45\", \"min\": \"0.0\", \"max\": \"1.0\", \"missing\": \"0\"}, \"updatedLabel\": \"DiagnosisCodeID1_binarize...\"}]}))\n",
    "\n",
    "\t#transformationPostExecutionHook(autofe)\n",
    "\n",
    "except Exception as ex: \n",
    "\tlogging.error(ex)\n"
   ]
  },
  {
   "cell_type": "markdown",
   "metadata": {},
   "source": [
    "***TRAIN MODEL***"
   ]
  },
  {
   "cell_type": "code",
   "execution_count": null,
   "metadata": {},
   "outputs": [],
   "source": [
    "#%run lastpaymentreadfromsinkHooks.ipynb\n",
    "try:\n",
    "\t#mlPreExecutionHook()\n",
    "\n",
    "\tdataAutoML=functionRegression(autofe, [\"_c0\", \"first_decision\", \"CPTCodeID\", \"FacilityID\", \"ProviderID\", \"PayerId\", \"DepartmentID\", \"DiagnosisCodeID1_binarizer\", \"LoadYear\", \"LoadMonth\", \"LoadWeek\", \"LoadDay\", \"LoadDayofweek\", \"LoadDayofyear\", \"DateOfServiceYear\", \"DateOfServiceMonth\", \"DateOfServiceWeek\", \"DateOfServiceDay\", \"DateOfServiceDayofweek\", \"DateOfServiceDayofyear\", \"DateOfEntryYear\", \"DateOfEntryMonth\", \"DateOfEntryWeek\", \"DateOfEntryDay\", \"DateOfEntryDayofweek\", \"DateOfEntryDayofyear\"], \"last_decision\")\n",
    "\n",
    "\t#mlPostExecutionHook(dataAutoML)\n",
    "\n",
    "except Exception as ex: \n",
    "\tlogging.error(ex)\n"
   ]
  },
  {
   "cell_type": "markdown",
   "metadata": {},
   "source": [
    "***PREDICT ON TRAINED MODEL***"
   ]
  },
  {
   "cell_type": "code",
   "execution_count": null,
   "metadata": {},
   "outputs": [],
   "source": [
    "import pandas as pd\n",
    "import numpy as np\n",
    "import sklearn.metrics\n",
    "\n",
    "try:\n",
    "    model=dataAutoML ['model']\n",
    "    X_test=dataAutoML['X_test']\n",
    "    y_test=dataAutoML['y_test']\n",
    "    label=dataAutoML['label']\n",
    "    columnNames=dataAutoML['columnNames']\n",
    "    if label in columnNames:\n",
    "        columnNames.remove(label)\n",
    "    predicted=label+\"_predicted\"\n",
    "    y_predicted=model.predict(X_test)\n",
    "    df =pd.DataFrame(X_test , columns=columnNames)\n",
    "    df[label]=y_test\n",
    "    df[predicted]=y_predicted\n",
    "    columnNames.insert(0,predicted)\n",
    "    columnNames.insert(0,label)\n",
    "    df = df[columnNames]\n",
    "    R2 = np.round(sklearn.metrics.r2_score(y_test, y_predicted), 1)\n",
    "    Mean_Squared_Error = np.round(sklearn.metrics.mean_squared_error(y_test, y_predicted), 1)\n",
    "    Mean_Absolute_Error = np.round(sklearn.metrics.mean_absolute_error(y_test, y_predicted), 1)\n",
    "    display(\" R2 score of Prediction on test data    : %s\"%R2)\n",
    "    display(\" Mean Squared Error of Prediction on test data    : %s\"%Mean_Squared_Error)\n",
    "    display(\" Mean Absolute Error of Prediction on test data   : %s\"%Mean_Absolute_Error)\n",
    "    display(df.head())\n",
    "except Exception as ex:\n",
    "    logging.error(ex)\n",
    "\n"
   ]
  }
 ],
 "metadata": {},
 "nbformat": 4,
 "nbformat_minor": 4
}
